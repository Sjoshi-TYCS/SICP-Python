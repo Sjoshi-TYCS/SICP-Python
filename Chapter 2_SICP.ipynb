{
 "cells": [
  {
   "cell_type": "code",
   "execution_count": 11,
   "metadata": {},
   "outputs": [
    {
     "data": {
      "text/plain": [
       "'Friday, September 02'"
      ]
     },
     "execution_count": 11,
     "metadata": {},
     "output_type": "execute_result"
    }
   ],
   "source": [
    "#OBJECTS AS A METAPHOR\n",
    "\n",
    "from datetime import date\n",
    "today=date(2011,9,2)\n",
    "str(date(2011,12,2)-today)\n",
    "today.year\n",
    "today.strftime('%A, %B %d')\n",
    "#Objects, class, instances ofclass, attributes, \n",
    "#methods (function valued attributes),behaviour and information.\n",
    "#Dot notation-combined expression in Python"
   ]
  },
  {
   "cell_type": "code",
   "execution_count": 12,
   "metadata": {},
   "outputs": [
    {
     "data": {
      "text/plain": [
       "datetime.date"
      ]
     },
     "execution_count": 12,
     "metadata": {},
     "output_type": "execute_result"
    }
   ],
   "source": [
    "# NATIVE DATA TYPES\n",
    "\n",
    "type(today)\n",
    "\n",
    "#Native data type properties, literals, native numeric types,float vs int"
   ]
  },
  {
   "cell_type": "code",
   "execution_count": 15,
   "metadata": {},
   "outputs": [],
   "source": [
    "#DATA ABSTRACTION\n",
    "\n",
    "#compund structure, compound data value, lat long regarded as single \n",
    "#conceptual unit,technique of isolating how data is represented vs how\n",
    "# data is maniplated, assupmtions about data should be minimum\n",
    "#Selectors and Constructors, finite binary expansion, # wishful thinking\n",
    "\n",
    "\"\"\"make_rat(n, d) returns the rational number with numerator n and denominator d. #constructor\n",
    "numer(x) returns the numerator of the rational number x. #selector\n",
    "denom(x) returns the denominator of the rational number x.  #selector\"\"\"\n",
    "\n",
    "def add_rat (x,y):\n",
    "    nx,dx=numer(x),denom(x)\n",
    "    ny,dy=numer(y),denom(y)\n",
    "    return make_rat(nx*dy+ny*dx,dx*dy)\n",
    "\n",
    "def mul_rat(x,y):\n",
    "    return make_rat(numer(x)*numer(y),denom(x)*denom(y))\n",
    "\n",
    "def eq_rat(x,y):\n",
    "    return numer(x)*denom(y)==numer(y)*denom(x)\n",
    "\n",
    "# we have defined operations on rational numbers defined, in terms of numer and\n",
    "#denom and the constructor fxn make_rat. Need to glue together num & denom.\n",
    "\n"
   ]
  },
  {
   "cell_type": "code",
   "execution_count": 18,
   "metadata": {},
   "outputs": [
    {
     "data": {
      "text/plain": [
       "1"
      ]
     },
     "execution_count": 18,
     "metadata": {},
     "output_type": "execute_result"
    }
   ],
   "source": [
    "# Tuples - a compound structure\n",
    "\n",
    "pair = (1,2)\n",
    "x,y=pair\n",
    "x\n",
    "y\n",
    "pair[0]\n",
    "pair[1]\n",
    "\n",
    "#indexing from 0 because we want to see how far is an element from the \n",
    "#beginning of the tuple\n",
    "\n",
    "from operator import getitem\n",
    "getitem(pair,0)\n"
   ]
  },
  {
   "cell_type": "code",
   "execution_count": 19,
   "metadata": {},
   "outputs": [],
   "source": [
    "def make_rat (n,d):\n",
    "    return (n,d)\n",
    "\n",
    "def numer(x):\n",
    "    return getitem(x,0)\n",
    "\n",
    "def denom(x):\n",
    "    return getitem(x,1)\n",
    "\n",
    "def str_rat(x):\n",
    "    return '{0}/{1}' .format (numer(x),denom(x))\n"
   ]
  },
  {
   "cell_type": "code",
   "execution_count": 21,
   "metadata": {},
   "outputs": [
    {
     "data": {
      "text/plain": [
       "'1/2'"
      ]
     },
     "execution_count": 21,
     "metadata": {},
     "output_type": "execute_result"
    }
   ],
   "source": [
    "half=make_rat(1,2)\n",
    "str_rat(half)"
   ]
  },
  {
   "cell_type": "code",
   "execution_count": 22,
   "metadata": {},
   "outputs": [
    {
     "data": {
      "text/plain": [
       "'1/3'"
      ]
     },
     "execution_count": 22,
     "metadata": {},
     "output_type": "execute_result"
    }
   ],
   "source": [
    "third=make_rat(1,3)\n",
    "str_rat(third)"
   ]
  },
  {
   "cell_type": "code",
   "execution_count": 24,
   "metadata": {},
   "outputs": [
    {
     "data": {
      "text/plain": [
       "'1/6'"
      ]
     },
     "execution_count": 24,
     "metadata": {},
     "output_type": "execute_result"
    }
   ],
   "source": [
    "str_rat(mul_rat(half,third))"
   ]
  },
  {
   "cell_type": "code",
   "execution_count": 25,
   "metadata": {},
   "outputs": [
    {
     "data": {
      "text/plain": [
       "'6/9'"
      ]
     },
     "execution_count": 25,
     "metadata": {},
     "output_type": "execute_result"
    }
   ],
   "source": [
    "str_rat(add_rat(third,third))"
   ]
  },
  {
   "cell_type": "code",
   "execution_count": 29,
   "metadata": {},
   "outputs": [
    {
     "data": {
      "text/plain": [
       "'2/3'"
      ]
     },
     "execution_count": 29,
     "metadata": {},
     "output_type": "execute_result"
    }
   ],
   "source": [
    "#final evaluation above shows our implementation does not reduce rational numbers.\n",
    "#need a function to compute greatest common denominator of integers\n",
    "\n",
    "from fractions import gcd\n",
    "from math import gcd\n",
    "def make_rat(n,d):\n",
    "    g=gcd(n,d)\n",
    "    return (n//g,d//g)\n",
    "\n",
    "# \"//\" expresses integer division , rounds down to fractional part of result of division.\n",
    "\n",
    "str_rat(add_rat(third,third))"
   ]
  },
  {
   "cell_type": "code",
   "execution_count": 55,
   "metadata": {},
   "outputs": [
    {
     "name": "stdout",
     "output_type": "stream",
     "text": [
      "secret is not a passowrd for sa\n",
      "Users connected: 6\n"
     ]
    }
   ],
   "source": [
    "#DIVE INTO PYTHON (FURTHER READING)\n",
    "uid = \"sa\"\n",
    "pwd= \"secret\"\n",
    "print (pwd,\"is not a passowrd for\",uid)\n",
    "\n",
    "usercount=(6,)\n",
    "print (\"Users connected: %s\"%(usercount))\n"
   ]
  },
  {
   "cell_type": "code",
   "execution_count": 74,
   "metadata": {},
   "outputs": [
    {
     "data": {
      "text/plain": [
       "7"
      ]
     },
     "execution_count": 74,
     "metadata": {},
     "output_type": "execute_result"
    }
   ],
   "source": [
    "def make_pair (x,y):\n",
    "    def dispatch(m):\n",
    "        if m==0:\n",
    "            return x\n",
    "        elif m==1:\n",
    "            return y\n",
    "    return dispatch\n",
    "    \n",
    "def getitem_pair(p,i):\n",
    "    return p(i)\n",
    "\n",
    "p=make_pair(3,7)\n",
    "getitem_pair(p,1)\n",
    "        "
   ]
  },
  {
   "cell_type": "code",
   "execution_count": 77,
   "metadata": {},
   "outputs": [
    {
     "data": {
      "text/plain": [
       "tuple"
      ]
     },
     "execution_count": 77,
     "metadata": {},
     "output_type": "execute_result"
    }
   ],
   "source": [
    "k=(1, (2, (3, (4, None))))\n",
    "type (k)"
   ]
  },
  {
   "cell_type": "code",
   "execution_count": 4,
   "metadata": {},
   "outputs": [],
   "source": [
    "empty_rlist = None\n",
    "def make_rlist(first, rest):\n",
    "        \"\"\"Make a recursive list from its first element and the rest.\"\"\"\n",
    "        return (first, rest)\n",
    "\n",
    "def first(s):\n",
    "        \"\"\"Return the first element of a recursive list s.\"\"\"\n",
    "        return s[0]\n",
    "    \n",
    "def rest(s):\n",
    "        \"\"\"Return the rest of the elements of a recursive list s.\"\"\"\n",
    "        return s[1]"
   ]
  },
  {
   "cell_type": "code",
   "execution_count": 5,
   "metadata": {},
   "outputs": [
    {
     "data": {
      "text/plain": [
       "(1, (2, (3, (4, None))))"
      ]
     },
     "execution_count": 5,
     "metadata": {},
     "output_type": "execute_result"
    }
   ],
   "source": [
    "counts = make_rlist(1, make_rlist(2, make_rlist(3, make_rlist(4, empty_rlist))))\n",
    "counts"
   ]
  },
  {
   "cell_type": "code",
   "execution_count": 6,
   "metadata": {},
   "outputs": [],
   "source": [
    "def len_rlist(s):\n",
    "    length = 0\n",
    "    while s !=empty_rlist:\n",
    "        s,length=rest(s),length+1\n",
    "    return length\n",
    "\n",
    "def getitem_rlist(s,i):\n",
    "    while i>0:\n",
    "        s,i=rest(s),i-1\n",
    "    return first(s)\n",
    "\n"
   ]
  },
  {
   "cell_type": "code",
   "execution_count": 16,
   "metadata": {},
   "outputs": [
    {
     "data": {
      "text/plain": [
       "4"
      ]
     },
     "execution_count": 16,
     "metadata": {},
     "output_type": "execute_result"
    }
   ],
   "source": [
    "getitem_rlist(counts,3)"
   ]
  },
  {
   "cell_type": "code",
   "execution_count": 25,
   "metadata": {},
   "outputs": [
    {
     "data": {
      "text/plain": [
       "3"
      ]
     },
     "execution_count": 25,
     "metadata": {},
     "output_type": "execute_result"
    }
   ],
   "source": [
    "def count (s,value):\n",
    "    total,index=0,0\n",
    "    while index<len (s):\n",
    "        if s[index]==value:\n",
    "            total=total+1\n",
    "        index=index+1\n",
    "    return total\n",
    "\n",
    "digits=(2,5,6,7,7,8,9,9,0,9,2,1,3,4)\n",
    "count(digits,9)"
   ]
  },
  {
   "cell_type": "code",
   "execution_count": 29,
   "metadata": {},
   "outputs": [
    {
     "data": {
      "text/plain": [
       "2"
      ]
     },
     "execution_count": 29,
     "metadata": {},
     "output_type": "execute_result"
    }
   ],
   "source": [
    "def count (s,value):\n",
    "    total=0\n",
    "    for j in s: #s is iterable\n",
    "        if j == value:\n",
    "            total=total+1\n",
    "    return total\n",
    "\n",
    "count (digits,7)"
   ]
  },
  {
   "cell_type": "code",
   "execution_count": 42,
   "metadata": {},
   "outputs": [
    {
     "data": {
      "text/plain": [
       "2"
      ]
     },
     "execution_count": 42,
     "metadata": {},
     "output_type": "execute_result"
    }
   ],
   "source": [
    "# sequence unpacking, rememember x,y=2,2 works. Similar syntax in For:\n",
    "\n",
    "mypairs=((2,1),(2,2),(6,7),(8,8),(3,4)) \n",
    "\n",
    "# Count number of same value pairs\n",
    "\n",
    "def countsame(s):\n",
    "    total=0\n",
    "    for x,y in s:\n",
    "        if x==y:\n",
    "            total=total+1\n",
    "    return total\n",
    "\n",
    "countsame(mypairs)"
   ]
  },
  {
   "cell_type": "code",
   "execution_count": 46,
   "metadata": {},
   "outputs": [
    {
     "data": {
      "text/plain": [
       "(1, 2, 3, 4, 5, 6, 7, 8, 9)"
      ]
     },
     "execution_count": 46,
     "metadata": {},
     "output_type": "execute_result"
    }
   ],
   "source": [
    "tuple (range(1,10))"
   ]
  },
  {
   "cell_type": "code",
   "execution_count": 69,
   "metadata": {},
   "outputs": [
    {
     "data": {
      "text/plain": [
       "[['heart', 'diamond', 'joker', 'spade', 'club'], 'diamond', 'spade', 'club']"
      ]
     },
     "execution_count": 69,
     "metadata": {},
     "output_type": "execute_result"
    }
   ],
   "source": [
    "#LISTS\n",
    "\n",
    "chinese_suits=['coin','string','myriad']\n",
    "suits=chinese_suits\n",
    "alphasuits=suits\n",
    "betasuits=alphasuits\n",
    "\n",
    "suits.pop()\n",
    "suits.remove('string')\n",
    "suits.append('cup')\n",
    "suits.extend(('sword','club'))\n",
    "suits[2]='spade'\n",
    "suits[0:2]=(\"heart\",\"diamond\")\n",
    "nest = list(suits)\n",
    "nest[0]=suits\n",
    "\n",
    "suits.insert(2,\"joker\")\n",
    "nest"
   ]
  },
  {
   "cell_type": "code",
   "execution_count": 72,
   "metadata": {},
   "outputs": [
    {
     "data": {
      "text/plain": [
       "['heart', 'diamond', 'spade', 'club']"
      ]
     },
     "execution_count": 72,
     "metadata": {},
     "output_type": "execute_result"
    }
   ],
   "source": [
    "#nest[0].pop(2)\n",
    "suits"
   ]
  },
  {
   "cell_type": "code",
   "execution_count": 66,
   "metadata": {},
   "outputs": [
    {
     "data": {
      "text/plain": [
       "True"
      ]
     },
     "execution_count": 66,
     "metadata": {},
     "output_type": "execute_result"
    }
   ],
   "source": [
    "suits is nest[0]"
   ]
  },
  {
   "cell_type": "code",
   "execution_count": 78,
   "metadata": {},
   "outputs": [
    {
     "data": {
      "text/plain": [
       "False"
      ]
     },
     "execution_count": 78,
     "metadata": {},
     "output_type": "execute_result"
    }
   ],
   "source": [
    "suits is ['heart','diamond','spade','club'] # because suits is a list object not just  \n",
    "# its values, which are compared here [....]"
   ]
  },
  {
   "cell_type": "code",
   "execution_count": 76,
   "metadata": {},
   "outputs": [
    {
     "data": {
      "text/plain": [
       "True"
      ]
     },
     "execution_count": 76,
     "metadata": {},
     "output_type": "execute_result"
    }
   ],
   "source": [
    "suits is suits"
   ]
  },
  {
   "cell_type": "code",
   "execution_count": 77,
   "metadata": {},
   "outputs": [
    {
     "data": {
      "text/plain": [
       "True"
      ]
     },
     "execution_count": 77,
     "metadata": {},
     "output_type": "execute_result"
    }
   ],
   "source": [
    "suits == nest[0]"
   ]
  },
  {
   "cell_type": "code",
   "execution_count": 79,
   "metadata": {},
   "outputs": [
    {
     "data": {
      "text/plain": [
       "True"
      ]
     },
     "execution_count": 79,
     "metadata": {},
     "output_type": "execute_result"
    }
   ],
   "source": [
    "suits == ['heart','diamond','spade','club']"
   ]
  },
  {
   "cell_type": "code",
   "execution_count": 87,
   "metadata": {},
   "outputs": [],
   "source": [
    "#LIST IMPLEMENTATION WITH RECRUSIVE PROGRAMMING. ACTUAL IMPLEMENTATION IS HIDDEN IN PYTHON\n",
    "\n",
    " # empty list, unique list\n",
    "empty_rlist=None"
   ]
  },
  {
   "cell_type": "code",
   "execution_count": 89,
   "metadata": {},
   "outputs": [],
   "source": [
    "#first & rest concept of a sequene \n",
    "def make_rlist(first,rest):\n",
    "    return (first,rest)\n",
    "def first(s):\n",
    "    return s[0]\n",
    "def rest(s):\n",
    "    return s[1]"
   ]
  },
  {
   "cell_type": "code",
   "execution_count": 92,
   "metadata": {},
   "outputs": [
    {
     "data": {
      "text/plain": [
       "(1, (2, (7, (5, (8, (12, None))))))"
      ]
     },
     "execution_count": 92,
     "metadata": {},
     "output_type": "execute_result"
    }
   ],
   "source": [
    "# now to make a list, use nested function:\n",
    "counts=make_rlist(1,make_rlist(2,make_rlist(7,make_rlist(5,make_rlist(8,make_rlist(12,empty_rlist))))))\n",
    "counts"
   ]
  },
  {
   "cell_type": "code",
   "execution_count": 97,
   "metadata": {},
   "outputs": [
    {
     "data": {
      "text/plain": [
       "7"
      ]
     },
     "execution_count": 97,
     "metadata": {},
     "output_type": "execute_result"
    }
   ],
   "source": [
    "def len_rlist(s):\n",
    "    length = 0 \n",
    "    while s!= empty_rlist:\n",
    "        s,length=rest(s),length+1\n",
    "    return length\n",
    "\n",
    "def getitem_rlist(s,i):\n",
    "    while i>0:\n",
    "        s,i=rest(s),i-1\n",
    "    return first(s)\n",
    "\n",
    "getitem_rlist(counts,2)\n",
    "    "
   ]
  },
  {
   "cell_type": "code",
   "execution_count": 120,
   "metadata": {},
   "outputs": [],
   "source": [
    "#len,getitem,pushfirst,popfirst,string,a convenience fxn\n",
    "\n",
    "def make_mutable_rlist ():\n",
    "    contents=empty_rlist\n",
    "    def dispatch (message, value=None):\n",
    "        nonlocal contents\n",
    "        if message==\"length\":\n",
    "            return len_rlist (contents)\n",
    "        elif message==\"getitem\":\n",
    "            return getitem_rlist (contents,value)\n",
    "        elif message==\"push_first\":\n",
    "            contents = make_rlist (value,contents)\n",
    "        elif message==\"pop_first\":\n",
    "            f=first(contents)\n",
    "            contents=rest(contents)\n",
    "            return f\n",
    "        elif message==\"str\":\n",
    "            return str(contents)\n",
    "    return dispatch\n",
    "\n",
    "#CONVENIENCE FUNCTION / ADDING ELEMENTS THE LIST\n",
    "\n",
    "def to_mutable_rlist (source):\n",
    "    s=make_mutable_rlist()\n",
    "    for element in reversed(source):\n",
    "        s (\"push_first\",element)\n",
    "    return s\n",
    "        \n"
   ]
  },
  {
   "cell_type": "code",
   "execution_count": 122,
   "metadata": {},
   "outputs": [
    {
     "data": {
      "text/plain": [
       "function"
      ]
     },
     "execution_count": 122,
     "metadata": {},
     "output_type": "execute_result"
    }
   ],
   "source": [
    "s=to_mutable_rlist(counts)\n",
    "type(s)"
   ]
  },
  {
   "cell_type": "code",
   "execution_count": 125,
   "metadata": {},
   "outputs": [
    {
     "data": {
      "text/plain": [
       "2"
      ]
     },
     "execution_count": 125,
     "metadata": {},
     "output_type": "execute_result"
    }
   ],
   "source": [
    "s('length')"
   ]
  },
  {
   "cell_type": "code",
   "execution_count": 126,
   "metadata": {},
   "outputs": [
    {
     "data": {
      "text/plain": [
       "6"
      ]
     },
     "execution_count": 126,
     "metadata": {},
     "output_type": "execute_result"
    }
   ],
   "source": [
    "len_rlist(counts)"
   ]
  },
  {
   "cell_type": "code",
   "execution_count": 130,
   "metadata": {},
   "outputs": [
    {
     "data": {
      "text/plain": [
       "function"
      ]
     },
     "execution_count": 130,
     "metadata": {},
     "output_type": "execute_result"
    }
   ],
   "source": [
    "mylist=['google','amazon','microsoft','apple','netflix']\n",
    "\n",
    "mys=to_mutable_rlist(mylist)\n",
    "type(mys)"
   ]
  },
  {
   "cell_type": "code",
   "execution_count": 132,
   "metadata": {},
   "outputs": [
    {
     "data": {
      "text/plain": [
       "5"
      ]
     },
     "execution_count": 132,
     "metadata": {},
     "output_type": "execute_result"
    }
   ],
   "source": [
    "mys('length')"
   ]
  },
  {
   "cell_type": "code",
   "execution_count": 146,
   "metadata": {},
   "outputs": [],
   "source": [
    "counts=make_rlist(1,make_rlist(2,make_rlist(7,make_rlist(5,make_rlist(8,make_rlist(12,empty_rlist))))))\n",
    "len (counts)\n",
    "len_rlist(counts)\n",
    "s('length')\n",
    "suits=['heart','diamond','spade','club']"
   ]
  },
  {
   "cell_type": "code",
   "execution_count": 149,
   "metadata": {},
   "outputs": [
    {
     "data": {
      "text/plain": [
       "4"
      ]
     },
     "execution_count": 149,
     "metadata": {},
     "output_type": "execute_result"
    }
   ],
   "source": [
    "#MYISSUE\n",
    "\n",
    "counts=make_rlist(1,make_rlist(2,make_rlist(7,make_rlist(5,make_rlist(8,make_rlist(12,empty_rlist))))))\n",
    "counts\n",
    "#inbuilt function sees the comma outside the inner brackets hence counts only 2\n",
    "len (counts)\n",
    "\n",
    "#this function doesn't stop counting till it reached the 'empt_rlist' value at the end of the list, hence counts recursively = 6\n",
    "def len_rlist(s):\n",
    "    length = 0 \n",
    "    while s!= empty_rlist:\n",
    "        s,length=rest(s),length+1\n",
    "    return length\n",
    "\n",
    "len_rlist(counts)\n",
    "\n",
    "#built a message based function that calculates length based on 'len_rlist' and fit it into below program:\n",
    "\n",
    "def make_mutable_rlist ():\n",
    "    contents=empty_rlist\n",
    "    def dispatch (message, value=None):\n",
    "        nonlocal contents\n",
    "        if message==\"length\":\n",
    "            return len_rlist (contents)\n",
    "        elif message==\"getitem\":\n",
    "            return getitem_rlist (contents,value)\n",
    "        elif message==\"push_first\":\n",
    "            contents = make_rlist (value,contents)\n",
    "        elif message==\"pop_first\":\n",
    "            f=first(contents)\n",
    "            contents=rest(contents)\n",
    "            return f\n",
    "        elif message==\"str\":\n",
    "            return str(contents)\n",
    "    return dispatch\n",
    "\n",
    "# to use this program used below function \n",
    "\n",
    "def to_mutable_rlist (source):\n",
    "    s=make_mutable_rlist()\n",
    "    for element in reversed(source):\n",
    "        s (\"push_first\",element)\n",
    "    return s\n",
    "\n",
    "s=to_mutable_rlist(suits)\n",
    "\n",
    "# new function s=... should give us the length based on 'length message using len_rlist function\n",
    "\n",
    "s('str')\n",
    "s('length')"
   ]
  },
  {
   "cell_type": "markdown",
   "metadata": {},
   "source": [
    "<font color = green>__My issue__</font> was that I was getting different results for **len** and **len_rlist** for the same list. But this was happening when I was using the message function to fetch the length of the list, which uses **len_rlist**. When I was using **len_rlist** directly on the list, it was giving me the correct result. What I didn't realize, I was appling **to_mutable_rlist** to use the message fxn **len_rlist** on a list, that was already a mutable recursive list, made by  *counts=make_rlist(...(..))))*. Using **to_mutable_rlist** on this rlist gave me a new recursive list, which had the length 2. "
   ]
  },
  {
   "cell_type": "code",
   "execution_count": 152,
   "metadata": {},
   "outputs": [],
   "source": [
    "# Dictionaries\n",
    "#getitem, setitem, # dispatch - keys and values\n",
    "\n",
    "def make_dict():\n",
    "    records = []\n",
    "    \n",
    "    # v is stored according to k , hence, if k=key return (remember wishful thinking). Iterable value here is records which is called (k,v) a pair.\n",
    "    # hence return v will return corresponding value.\n",
    "    \n",
    "    def getitem(key):\n",
    "        for k,v in records:\n",
    "            if k==key:\n",
    "                return v\n",
    "    \n",
    "    #setitem will take key, value and attach new value to the key, wether or not key already exists.\n",
    "    \n",
    "    def setitem(key,value):\n",
    "        for item in records:\n",
    "            if item[0]==key:\n",
    "                item[1]=value\n",
    "                return\n",
    "        records.append ([key,value])\n",
    "        \n",
    "    def dispatch (message, key=None, value=None):\n",
    "        if message == 'getitem':\n",
    "            return getitem(key)\n",
    "        elif message == 'setitem':\n",
    "            return setitem(key, value)\n",
    "        elif message=='keys':\n",
    "            return tuple(k for k, _ in records)\n",
    "        elif message == 'values':\n",
    "            return tuple(v for _, v in records)\n",
    "        elif message=='string':\n",
    "            return str(records)\n",
    "    return dispatch\n",
    "    \n",
    "    \n",
    "        "
   ]
  },
  {
   "cell_type": "code",
   "execution_count": 160,
   "metadata": {},
   "outputs": [
    {
     "data": {
      "text/plain": [
       "\"[[3, 4], [('angel', 'misha', 'CMD'), ('42', 'Rstudio', 'Bash')]]\""
      ]
     },
     "execution_count": 160,
     "metadata": {},
     "output_type": "execute_result"
    }
   ],
   "source": [
    "mydict=make_dict()\n",
    "mydict('setitem',3,4)\n",
    "mydict('setitem',('angel','misha','CMD'),('42','Rstudio','Bash'))\n",
    "mydict('string')"
   ]
  },
  {
   "cell_type": "markdown",
   "metadata": {},
   "source": [
    "### Propogating constraints, Example\n",
    "\n",
    "<font color = blue>__Keywords:__</font> Constraints, Connectors, nonlocal, dictionaries, general linear method, association, dispatch"
   ]
  },
  {
   "cell_type": "code",
   "execution_count": null,
   "metadata": {},
   "outputs": [],
   "source": [
    "from operator import add,sub,mul,truediv\n",
    "\n",
    "def inform_all_except (source, message, constraints):\n",
    "    \"\"\"Inform all constraints of the message except source\"\"\"\n",
    "    for c in constraints:\n",
    "        if c != source:\n",
    "            c[message] ()\n",
    "\n",
    "def make_ternary_constraints (a,b,c,ab,ca,cb):\n",
    "    \"\"\"The constraint that ab(a,b)=c and ca(c,a)=b and cb(c,b)=a\"\"\"\n",
    "    def new_value():\n",
    "        av,bv,cv = [connector['has_val']() for connector in (a,b,c)]\n",
    "        if av and bv:\n",
    "            c['set_val'](constraint,ab(a['val'],b['val']))\n",
    "        elif av and cv:\n",
    "            b['set_val'](constraint,ac(a['val'],c['val']))\n",
    "        elif cv and bv:\n",
    "            a['set_val'](constraint,cb(c['val'],b['val']))\n",
    "    def forget_value():\n",
    "        for connector in (a,b,c):\n",
    "            connector ['forget'] (constraint)\n",
    "    constraint = {'new_val':new_value,'forget':forget_value}\n",
    "    for connector in (a,b,c):\n",
    "        connector ['connect'] (constraint)\n",
    "    return constraint\n",
    "\n",
    "def adder(a,b,c):\n",
    "    \"\"\"the constraint that a+b=c\"\"\"\n",
    "    return make_ternary_constraints (a,b,c, add,sub,sub)\n",
    "\n",
    "def multiplier(a,b,c):\n",
    "    \"\"\"the constraint that a*b=c\"\"\"\n",
    "    return make_ternary_constraints (a,b,c,mul,truediv,truediv)\n",
    "\n",
    "\n",
    "def constant (connector,value):\n",
    "    \"\"\"the constraint that connector=value\"\"\"\n",
    "    constraint={}\n",
    "    connector['set_val'](constraint, value)\n",
    "    return constraint\n",
    "\n",
    "def make_connector (name=None):\n",
    "    \"\"\"A connector between constraints\"\"\"\n",
    "    informant = None\n",
    "    constraints=[]\n",
    "    def set_value (source, value):\n",
    "        nonlocal informant\n",
    "        val=connector['val']\n",
    "        if val is None:\n",
    "            informant,connector['val']=source,value\n",
    "            if name is not None:\n",
    "                print (name, '=',  value)\n",
    "            inform_all_except (source, 'new_val', constraints)\n",
    "        elif val != value:\n",
    "            print ('Contradiction detected', val, \"vs\", value)\n",
    "    def forget_value (source):\n",
    "        nonlocal informant\n",
    "        if informant == source:\n",
    "            informant, connector['val']=None, None\n",
    "            if name is not None:\n",
    "                print (name, 'is forgotten')\n",
    "            inform_all_except(source,'forget',constraints)\n",
    "    connector = {'val':None,'set_val':set_value,'forget':forget_value,'has_val':lambda: connector['val'] is not None,\n",
    "                'connect': lambda source: constraints.append(source)}\n",
    "    return connector\n",
    "\n",
    "celsius = make_connector ('Celsius')\n",
    "fahrenheit = make_connector ('Fahrenheit')\n",
    "\n",
    "def make_converter (c,f):\n",
    "    \"\"\"connect c to f with constraints from celsius to fahrenheit\"\"\"\n",
    "    \n",
    "    u,v,w,x,y = [make_connector() for _ in range(5)]\n",
    "    multiplier (c,w,u)\n",
    "    multiplier (v,x,u)\n",
    "    adder (v,y,f)\n",
    "    constant (w,9)\n",
    "    constant (x,5)\n",
    "    constant (y,32)\n",
    "\n",
    "make_converter (celsius, fahrenheit)\n",
    "\n",
    "    "
   ]
  },
  {
   "cell_type": "markdown",
   "metadata": {},
   "source": [
    "## Implementing Classes and Objects\n",
    "\n"
   ]
  },
  {
   "cell_type": "code",
   "execution_count": 2,
   "metadata": {},
   "outputs": [],
   "source": [
    "def make_instance (cls):\n",
    "    \"\"\"return a new object instance, which is a dispatch dictionary\"\"\"\n",
    "    def get_value(name):\n",
    "        if name in attributes:\n",
    "            return attributes[name]\n",
    "        else:\n",
    "            value = cls ['get'](name)\n",
    "            return bind_method (value, instance)\n",
    "    def set_value (name, value):\n",
    "        attributes [name] = value\n",
    "    attributes = {}\n",
    "    instance = {'get': get_value, 'set': set_value}\n",
    "    return instance"
   ]
  },
  {
   "cell_type": "code",
   "execution_count": 3,
   "metadata": {},
   "outputs": [],
   "source": [
    "def bind_method (value, instance):\n",
    "    \"\"\"Return a bound method if value is callable, or value otherwise\"\"\"\n",
    "    if callable (value):\n",
    "        def method(*args):\n",
    "            return value (instance, *args)\n",
    "        return method\n",
    "    else:\n",
    "        return value"
   ]
  },
  {
   "cell_type": "code",
   "execution_count": 4,
   "metadata": {},
   "outputs": [],
   "source": [
    "def make_class (attributes, base_class = None):\n",
    "    \"\"\"Return a new class, which is a dispatch dictionary.\"\"\"\n",
    "    def get_value(name):\n",
    "        if name in attributes:\n",
    "            return attributes[name]\n",
    "        elif base_class is not None:\n",
    "            return base_class['get'](name)\n",
    "    def set_value(name,value):\n",
    "        attributes[name] = value\n",
    "    def new(*args):\n",
    "        return init_instance(cls, *args)\n",
    "    cls = {'get':get_value,'set':set_value,'new':new}\n",
    "    return cls\n",
    "            "
   ]
  },
  {
   "cell_type": "code",
   "execution_count": 5,
   "metadata": {},
   "outputs": [],
   "source": [
    "def init_instance(cls,*args):\n",
    "    \"\"\"Return a new object with type cls, initialized with args\"\"\"\n",
    "    instance = make_instance (cls)\n",
    "    init = cls ['get'] ('__init__')\n",
    "    if init:\n",
    "        init (instance, *args)\n",
    "    return instance"
   ]
  },
  {
   "cell_type": "code",
   "execution_count": 6,
   "metadata": {},
   "outputs": [],
   "source": [
    "def make_account_class():\n",
    "        \"\"\"Return the Account class, which has deposit and withdraw methods.\"\"\"\n",
    "        def __init__(self, account_holder):\n",
    "            self['set']('holder', account_holder)\n",
    "            self['set']('balance', 0)\n",
    "        def deposit(self, amount):\n",
    "            \"\"\"Increase the account balance by amount and return the new balance.\"\"\"\n",
    "            new_balance = self['get']('balance') + amount\n",
    "            self['set']('balance', new_balance)\n",
    "            return self['get']('balance')\n",
    "        def withdraw(self, amount):\n",
    "            \"\"\"Decrease the account balance by amount and return the new balance.\"\"\"\n",
    "            balance = self['get']('balance')\n",
    "            if amount > balance:\n",
    "                return 'Insufficient funds'\n",
    "            self['set']('balance', balance - amount)\n",
    "            return self['get']('balance')\n",
    "        return make_class({'__init__': __init__,\n",
    "                           'deposit':  deposit,\n",
    "                           'withdraw': withdraw,\n",
    "                           'interest': 0.02})"
   ]
  },
  {
   "cell_type": "code",
   "execution_count": 9,
   "metadata": {},
   "outputs": [],
   "source": [
    "def init_instance1(cls,*args):\n",
    "    \"\"\"Return a new object with type cls, initialized with args\"\"\"\n",
    "    instance = make_instance (cls)\n",
    "    init = cls ['get'] ('__init__')\n",
    "    #if init:\n",
    "        #init (instance, *args)\n",
    "    return init"
   ]
  },
  {
   "cell_type": "code",
   "execution_count": null,
   "metadata": {},
   "outputs": [],
   "source": []
  },
  {
   "cell_type": "code",
   "execution_count": 10,
   "metadata": {},
   "outputs": [
    {
     "data": {
      "text/plain": [
       "dict"
      ]
     },
     "execution_count": 10,
     "metadata": {},
     "output_type": "execute_result"
    }
   ],
   "source": [
    "jim_acct = Account ['new'] ('Jim')\n",
    "type(jim_acct)"
   ]
  },
  {
   "cell_type": "code",
   "execution_count": 12,
   "metadata": {},
   "outputs": [
    {
     "data": {
      "text/plain": [
       "'Jim'"
      ]
     },
     "execution_count": 12,
     "metadata": {},
     "output_type": "execute_result"
    }
   ],
   "source": [
    "jim_acct['get'] ('holder')"
   ]
  },
  {
   "cell_type": "code",
   "execution_count": 13,
   "metadata": {},
   "outputs": [
    {
     "data": {
      "text/plain": [
       "0.02"
      ]
     },
     "execution_count": 13,
     "metadata": {},
     "output_type": "execute_result"
    }
   ],
   "source": [
    "jim_acct ['get'] ('interest')"
   ]
  },
  {
   "cell_type": "code",
   "execution_count": 15,
   "metadata": {},
   "outputs": [
    {
     "data": {
      "text/plain": [
       "20"
      ]
     },
     "execution_count": 15,
     "metadata": {},
     "output_type": "execute_result"
    }
   ],
   "source": [
    "jim_acct ['get'] ('deposit') (20)"
   ]
  },
  {
   "cell_type": "code",
   "execution_count": 16,
   "metadata": {},
   "outputs": [
    {
     "data": {
      "text/plain": [
       "15"
      ]
     },
     "execution_count": 16,
     "metadata": {},
     "output_type": "execute_result"
    }
   ],
   "source": [
    "jim_acct ['get'] ('withdraw') (5)"
   ]
  },
  {
   "cell_type": "code",
   "execution_count": 20,
   "metadata": {},
   "outputs": [
    {
     "data": {
      "text/plain": [
       "0.02"
      ]
     },
     "execution_count": 20,
     "metadata": {},
     "output_type": "execute_result"
    }
   ],
   "source": [
    "jim_acct ['set'] ('interest', 0.04)\n",
    "Account ['get'] ('interest')"
   ]
  },
  {
   "cell_type": "code",
   "execution_count": 21,
   "metadata": {},
   "outputs": [
    {
     "data": {
      "text/plain": [
       "0.04"
      ]
     },
     "execution_count": 21,
     "metadata": {},
     "output_type": "execute_result"
    }
   ],
   "source": [
    "jim_acct['get'] ('interest')"
   ]
  },
  {
   "cell_type": "markdown",
   "metadata": {},
   "source": [
    "### Inheritance"
   ]
  },
  {
   "cell_type": "code",
   "execution_count": 22,
   "metadata": {},
   "outputs": [],
   "source": [
    "def make_checking_account_class():\n",
    "        \"\"\"Return the CheckingAccount class, which imposes a $1 withdrawal fee.\"\"\"\n",
    "        def withdraw(self, amount):\n",
    "            return Account['get']('withdraw')(self, amount + 1)\n",
    "        return make_class({'withdraw': withdraw, 'interest': 0.01}, Account)"
   ]
  },
  {
   "cell_type": "code",
   "execution_count": 23,
   "metadata": {},
   "outputs": [],
   "source": [
    "CheckingAcc = make_checking_account_class()\n",
    "jack_acct = CheckingAcc ['new'] ('jack')"
   ]
  },
  {
   "cell_type": "code",
   "execution_count": 24,
   "metadata": {},
   "outputs": [
    {
     "name": "stdout",
     "output_type": "stream",
     "text": [
      "0.01\n",
      "20\n",
      "10\n"
     ]
    }
   ],
   "source": [
    "print(jack_acct ['get'] ('interest'))\n",
    "print(jack_acct ['get'] ('deposit')(20))\n",
    "print(jack_acct ['get'] ('withdraw')(9))"
   ]
  },
  {
   "cell_type": "markdown",
   "metadata": {},
   "source": [
    "### Generic Operations\n",
    "\n",
    "Combining and manipulating objects of different types to build a large program. Till now we have used message functions, with dot expressions was what we have used till now. \n",
    "\n",
    "Using message passing, we endowed our abstract data types with behaviour directly. Using the object methaphor, we bundled together the representation of data and the methods used to manipulate that data to modularize data-driven programs with local state.\n"
   ]
  },
  {
   "cell_type": "code",
   "execution_count": 1,
   "metadata": {},
   "outputs": [
    {
     "name": "stdout",
     "output_type": "stream",
     "text": [
      "Creating class with attributes 0x16fd9dd45e8\n",
      "Created instance attributes 0x16fd9dd44c8\n",
      "\n",
      "CLASS GET_VALUE __init__ from 0x16fd9dd45e8\n",
      "Calling init of 0x16fd9dd47e0 on 0x16fd9dd4798 with ('Jim',)\n",
      "INIT 0x16fd9dd4798 ('Jim',)\n",
      "Created instance attributes 0x16fd9dd46c0\n",
      "\n",
      "CLASS GET_VALUE __init__ from 0x16fd9dd45e8\n",
      "Calling init of 0x16fd9dd47e0 on 0x16fd9dd4900 with ('Fred',)\n",
      "INIT 0x16fd9dd4900 ('Fred',)\n",
      "CLASS 0x16fd9dd47e0\n",
      "\n",
      "INSTANCE 0x16fd9dd4798\n",
      "INSTANCE GET_VALUE data from 0x16fd9dd44c8\n",
      "('Jim',)\n",
      "INSTANCE GET_VALUE test from 0x16fd9dd44c8\n",
      "Hello\n",
      "\n",
      "INSTANCE 0x16fd9dd4900\n",
      "INSTANCE GET_VALUE data from 0x16fd9dd46c0\n",
      "('Fred',)\n",
      "INSTANCE GET_VALUE test from 0x16fd9dd46c0\n",
      "Default Test\n"
     ]
    }
   ],
   "source": [
    "def hexid(obj):\n",
    "    return hex(id(obj))\n",
    "\n",
    "def make_instance(cls): # good with this\n",
    "    \"\"\" Return a new object instance, which is a dispatch dictionary \"\"\"\n",
    "    def get_value(name):\n",
    "        print('INSTANCE GET_VALUE', name, 'from', hexid(attributes))\n",
    "        if name in attributes:\n",
    "            return attributes[name]\n",
    "        else:\n",
    "            value = cls['get'](name)\n",
    "            return bind_method(value, instance)\n",
    "\n",
    "    def set_value(name, value):\n",
    "        attributes[name] = value\n",
    "\n",
    "    attributes = {'test': 'Default Test'}\n",
    "    print('Created instance attributes', hexid(attributes))\n",
    "    instance = {'get': get_value, 'set': set_value}\n",
    "    return instance\n",
    "\n",
    "def bind_method(value, instance): # good with this\n",
    "    \"\"\" Return a bound method if value is callable, or value otherwise \"\"\"\n",
    "    if callable(value):\n",
    "        def method(*args):\n",
    "            return value(instance, *args)\n",
    "        return method\n",
    "    else:\n",
    "        return value\n",
    "\n",
    "def make_class(attributes, base_class=None): \n",
    "    \"\"\" Return a new class, which is a dispatch dictionary. \"\"\"\n",
    "    def get_value(name):\n",
    "        print('\\nCLASS GET_VALUE', name, 'from', hexid(attributes))\n",
    "        if name in attributes:\n",
    "            return attributes[name]\n",
    "        elif base_class is not None:\n",
    "            return base_class['get'](name)\n",
    "\n",
    "    def set_value(name, value):\n",
    "        attributes[name] = value\n",
    "\n",
    "    def new(*args):\n",
    "        return init_instance(cls, *args)\n",
    "\n",
    "    print('Creating class with attributes', hexid(attributes))\n",
    "    cls = {'get': get_value, 'set': set_value, 'new': new}\n",
    "    return cls\n",
    "\n",
    "def init_instance(cls, *args): # problem here\n",
    "    \"\"\" Return a new object with type cls, initialized with args \"\"\"\n",
    "    instance = make_instance(cls)\n",
    "    init = cls['get']('__init__')\n",
    "    if init:\n",
    "        print('Calling init of', hexid(cls), 'on', hexid(instance), 'with', args)\n",
    "        init(instance, *args)          #No return here\n",
    "    return instance\n",
    "\n",
    "def make_my_class(): # define a custom class\n",
    "    # Create a simple __init__ for the class\n",
    "    def __init__(inst, *args):\n",
    "        print('INIT', hexid(inst), args)\n",
    "        inst['set']('data', args)\n",
    "\n",
    "    # return a dict that implements class\n",
    "    return make_class({'__init__': __init__})\n",
    "\n",
    "# test\n",
    "\n",
    "#create a class\n",
    "my_class = make_my_class()\n",
    "\n",
    "#create some class instances\n",
    "jim = my_class['new']('Jim')\n",
    "jim['set']('test', 'Hello')\n",
    "\n",
    "fred = my_class['new']('Fred') \n",
    "\n",
    "print('CLASS', hexid(my_class))\n",
    "print('\\nINSTANCE', hexid(jim))\n",
    "print(jim['get']('data'))\n",
    "print(jim['get']('test'))\n",
    "\n",
    "print('\\nINSTANCE', hexid(fred))\n",
    "print(fred['get']('data'))\n",
    "print(fred['get']('test'))"
   ]
  },
  {
   "cell_type": "code",
   "execution_count": 3,
   "metadata": {},
   "outputs": [
    {
     "name": "stdout",
     "output_type": "stream",
     "text": [
      "Help on built-in function hex in module builtins:\n",
      "\n",
      "hex(number, /)\n",
      "    Return the hexadecimal representation of an integer.\n",
      "    \n",
      "    >>> hex(12648430)\n",
      "    '0xc0ffee'\n",
      "\n"
     ]
    }
   ],
   "source": [
    "help(hex)"
   ]
  },
  {
   "cell_type": "markdown",
   "metadata": {},
   "source": [
    "# Super SO References \n",
    "\n",
    "https://stackoverflow.com/questions/50769327/class-instance-implementation-initializing-instance-from-sicp-python/50871026#50871026\n",
    "\n",
    "\n",
    "https://stackoverflow.com/questions/4020419/why-arent-python-nested-functions-called-closures/20898085#20898085\n",
    "\n",
    "\n",
    "https://stackoverflow.com/questions/12919278/how-to-define-free-variable-in-python"
   ]
  },
  {
   "cell_type": "code",
   "execution_count": null,
   "metadata": {},
   "outputs": [],
   "source": []
  }
 ],
 "metadata": {
  "kernelspec": {
   "display_name": "Python 3",
   "language": "python",
   "name": "python3"
  },
  "language_info": {
   "codemirror_mode": {
    "name": "ipython",
    "version": 3
   },
   "file_extension": ".py",
   "mimetype": "text/x-python",
   "name": "python",
   "nbconvert_exporter": "python",
   "pygments_lexer": "ipython3",
   "version": "3.6.4"
  }
 },
 "nbformat": 4,
 "nbformat_minor": 2
}
