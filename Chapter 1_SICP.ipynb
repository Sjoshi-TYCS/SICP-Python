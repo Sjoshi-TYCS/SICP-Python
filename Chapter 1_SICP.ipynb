{
 "cells": [
  {
   "cell_type": "code",
   "execution_count": 3,
   "metadata": {},
   "outputs": [],
   "source": [
    "def square(x):\n",
    "    return mul(x,x)\n",
    "\n",
    "from operator import add,sub,mul\n",
    "from math import sqrt, exp\n",
    "\n"
   ]
  },
  {
   "cell_type": "code",
   "execution_count": 13,
   "metadata": {},
   "outputs": [
    {
     "data": {
      "text/plain": [
       "1.3938000000000003e-24"
      ]
     },
     "execution_count": 13,
     "metadata": {},
     "output_type": "execute_result"
    }
   ],
   "source": [
    "def pressure (v,t,n):\n",
    "    \"\"\"Hoddie\"\"\"\n",
    "    k=1.38e-23 #boltzmann constant\n",
    "    return n*k*t/v\n",
    "pressure(1000,100,1.01)    "
   ]
  },
  {
   "cell_type": "code",
   "execution_count": 14,
   "metadata": {},
   "outputs": [
    {
     "name": "stdout",
     "output_type": "stream",
     "text": [
      "Help on function pressure in module __main__:\n",
      "\n",
      "pressure(v, t, n)\n",
      "    Hoddie\n",
      "\n"
     ]
    }
   ],
   "source": [
    "help(pressure)"
   ]
  },
  {
   "cell_type": "code",
   "execution_count": 2,
   "metadata": {},
   "outputs": [
    {
     "data": {
      "text/plain": [
       "5676575"
      ]
     },
     "execution_count": 2,
     "metadata": {},
     "output_type": "execute_result"
    }
   ],
   "source": [
    "abs(-5676575)"
   ]
  },
  {
   "cell_type": "code",
   "execution_count": 4,
   "metadata": {},
   "outputs": [],
   "source": [
    "def absolute_value(x):\n",
    "    if x>0:\n",
    "        return x\n",
    "    elif x==0:\n",
    "        return 0\n",
    "    else:\n",
    "        return -x"
   ]
  },
  {
   "cell_type": "code",
   "execution_count": 6,
   "metadata": {},
   "outputs": [
    {
     "data": {
      "text/plain": [
       "4"
      ]
     },
     "execution_count": 6,
     "metadata": {},
     "output_type": "execute_result"
    }
   ],
   "source": [
    "absolute_value(-4)"
   ]
  },
  {
   "cell_type": "code",
   "execution_count": 2,
   "metadata": {},
   "outputs": [
    {
     "data": {
      "text/plain": [
       "1"
      ]
     },
     "execution_count": 2,
     "metadata": {},
     "output_type": "execute_result"
    }
   ],
   "source": [
    "def fib(n):\n",
    "    pred,curr=0,1\n",
    "    k=2\n",
    "    while k<n:\n",
    "        pred,curr=curr,curr+pred\n",
    "        k=k+1\n",
    "    return curr\n",
    "\n",
    "fib(3)"
   ]
  },
  {
   "cell_type": "markdown",
   "metadata": {},
   "source": [
    "[StackOverflow Link](https://stackoverflow.com/questions/419163/what-does-if-name-main-do)\n",
    "[Doctest Good Explaination](https://docs.python.org/3/library/doctest.html)\n",
    "\n",
    "### Example \"doctest\", \"main\", \"execution order\" \n",
    "import time, thread\n",
    "\n",
    "\n",
    "    def myfunction(string, sleeptime, lock, *args):\n",
    "    while True:\n",
    "        lock.acquire()\n",
    "        time.sleep(sleeptime)\n",
    "        lock.release()\n",
    "        time.sleep(sleeptime)\n",
    "\n",
    "    if __name__ == \"__main__\":\n",
    "    lock = thread.allocate_lock()\n",
    "    thread.start_new_thread(myfunction, (\"Thread #: 1\", 2, lock))\n",
    "    thread.start_new_thread(myfunction, (\"Thread #: 2\", 2, lock))\n",
    "    \n",
    "    \n",
    " When the Python interpreter reads a source file, it executes all of the code found in it.\n",
    "\n",
    "Before executing the code, it will define a few special variables. For example, if the python interpreter is running that module (the source file) as the main program, it sets the special __name__ variable to have a value \"__main__\". If this file is being imported from another module, __name__ will be set to the module's name.\n",
    "\n",
    "In the case of your script, let's assume that it's executing as the main function, e.g. you said something like\n",
    "\n",
    "python threading_example.py\n",
    "on the command line. After setting up the special variables, it will execute the import statement and load those modules. It will then evaluate the def block, creating a function object and creating a variable called myfunction that points to the function object. It will then read the if statement and see that __name__ does equal \"__main__\", so it will execute the block shown there.\n",
    "\n",
    "One reason for doing this is that sometimes you write a module (a .py file) where it can be executed directly. Alternatively, it can also be imported and used in another module. By doing the main check, you can have that code only execute when you want to run the module as a program and not have it execute when someone just wants to import your module and call your functions themselves.\n",
    "\n",
    "See [this page](http://ibiblio.org/g2swap/byteofpython/read/module-name.html) for some extra details.\n"
   ]
  },
  {
   "cell_type": "code",
   "execution_count": 26,
   "metadata": {},
   "outputs": [],
   "source": [
    "def sum_naturals(n):\n",
    "    \"\"\"Return the sum of the first n natural numbers\n",
    "     \n",
    "     \n",
    "    >>> sum_naturals(10)\n",
    "    55 \n",
    "    >>> sum_naturals(100) \n",
    "    5050 \n",
    "    \"\"\"\n",
    "    total, k =0,1\n",
    "    while k<=n:\n",
    "        total,k=total+k,k+1\n",
    "    return total"
   ]
  },
  {
   "cell_type": "code",
   "execution_count": 27,
   "metadata": {},
   "outputs": [
    {
     "name": "stdout",
     "output_type": "stream",
     "text": [
      "**********************************************************************\n",
      "File \"__main__\", line 5, in NoName\n",
      "Failed example:\n",
      "    sum_naturals(10)\n",
      "Expected:\n",
      "    55 \n",
      "Got:\n",
      "    55\n",
      "**********************************************************************\n",
      "File \"__main__\", line 7, in NoName\n",
      "Failed example:\n",
      "    sum_naturals(100) \n",
      "Expected:\n",
      "    5050 \n",
      "Got:\n",
      "    5050\n"
     ]
    }
   ],
   "source": [
    "from doctest import run_docstring_examples\n",
    "run_docstring_examples(sum_naturals,globals())"
   ]
  },
  {
   "cell_type": "markdown",
   "metadata": {},
   "source": [
    "When writing Python in files, all doctests in a file can be run by starting Python with the doctest command line option.\n",
    "\n",
    "      python3 -m doctest <python_source_file>"
   ]
  },
  {
   "cell_type": "code",
   "execution_count": 1,
   "metadata": {},
   "outputs": [],
   "source": [
    "#General Method functions for Iterative improvement.  \n",
    "def iter_improve (update,test,guess=1):\n",
    "    while not test(guess):\n",
    "        guess=update(guess)\n",
    "    return guess\n",
    "\n",
    "def near (x,f,g):\n",
    "    return approx_eq(f(x),g(x))\n",
    "\n",
    "def approx_eq(x,y,tolerance=1e-5):\n",
    "    return abs(x-y) < tolerance\n",
    "\n",
    "def successor(k):\n",
    "    return k+1\n"
   ]
  },
  {
   "cell_type": "code",
   "execution_count": 4,
   "metadata": {},
   "outputs": [
    {
     "data": {
      "text/plain": [
       "1.6180371352785146"
      ]
     },
     "execution_count": 4,
     "metadata": {},
     "output_type": "execute_result"
    }
   ],
   "source": [
    "# Golden Ratio using above GMF's. \n",
    "def golden_update(guess):\n",
    "    return 1/guess+1\n",
    "\n",
    "def golden_test(guess):\n",
    "    return near(guess,square,successor)\n",
    "\n",
    "iter_improve (golden_update,golden_test)"
   ]
  },
  {
   "cell_type": "code",
   "execution_count": 11,
   "metadata": {},
   "outputs": [
    {
     "data": {
      "text/plain": [
       "9.000000000007091"
      ]
     },
     "execution_count": 11,
     "metadata": {},
     "output_type": "execute_result"
    }
   ],
   "source": [
    "#Nested Functions, say you have an update function that requires two statements.\n",
    "#Computing the square root of a number.\n",
    "\n",
    "def average (x,y):\n",
    "    return (x+y)/2\n",
    "\n",
    "def sqrt_update(guess,x):\n",
    "    return average(guess,x/guess)\n",
    "\n",
    "#Nested Function\n",
    "def square_root(x):\n",
    "    def update(guess):\n",
    "        return average(guess,x/guess)\n",
    "    def test(guess):\n",
    "        return approx_eq(square(guess),x)\n",
    "    return iter_improve(update,test)\n",
    "\n",
    "square_root(81)\n"
   ]
  },
  {
   "cell_type": "code",
   "execution_count": 14,
   "metadata": {},
   "outputs": [
    {
     "data": {
      "text/plain": [
       "169"
      ]
     },
     "execution_count": 14,
     "metadata": {},
     "output_type": "execute_result"
    }
   ],
   "source": [
    "# FxNs as returned values\n",
    "\n",
    "def compose1(f,g):\n",
    "    def h(x):\n",
    "        return f(g(x))\n",
    "    return h\n",
    "\n",
    "add_one_square = compose1(square, successor)\n",
    "\n",
    "add_one_square(12)\n"
   ]
  },
  {
   "cell_type": "code",
   "execution_count": 15,
   "metadata": {},
   "outputs": [],
   "source": [
    "def compose1(f,g):\n",
    "    return lambda x:f(g(x))"
   ]
  },
  {
   "cell_type": "markdown",
   "metadata": {},
   "source": [
    "#### Newton-raphson\n",
    "Newton's method is a classic iterative approach to finding the arguments of a mathematical function that yield a return value of 0. These values are called roots of a single-argument mathematical function. Finding a root of a function is often equivalent to solving a related math problem.\n",
    "\n",
    "* The square root of 16 is the value x such that: square(x) - 16 = 0\n",
    "\n",
    "* The log base 2 of 32 (i.e., the exponent to which we would raise 2 to get 32) is the value x such that: pow(2, x) - 32 = 0\n",
    "\n",
    "Thus, a general method for finding roots will also provide us an algorithm to compute square roots and logarithms. Moreover, the equations for which we want to compute roots only contain simpler operations: multiplication and exponentiation.\n"
   ]
  },
  {
   "cell_type": "code",
   "execution_count": 23,
   "metadata": {},
   "outputs": [
    {
     "name": "stdout",
     "output_type": "stream",
     "text": [
      "<function logarithm at 0x00000188C053AD90>\n"
     ]
    }
   ],
   "source": [
    "def square_root(a):\n",
    "    return find_root(lambda x: square(x)-a)\n",
    "\n",
    "def logarithm(a,base=2):\n",
    "    return find_root(lambda x: pow(base,x) - a)\n",
    "\n",
    "#Newton update expresses the computational process of following\n",
    "# the tangent line to zero. Approximate the derivate of the function by \n",
    "#computing its slope over a very small interval.\n",
    "\n",
    "def approx_derivative(f,x,delta=1e-5):\n",
    "    df=f(x+delta) - f(x)\n",
    "    return df/delta\n",
    "\n",
    "def newton_update(f):\n",
    "    def update(x):\n",
    "        return x-f(x)/approx_derivative(f,x)\n",
    "    return update\n",
    "\n",
    "def find_root(f, initial_guess=10):\n",
    "        def test(x):\n",
    "            return approx_eq(f(x), 0)\n",
    "        return iter_improve(newton_update(f), test, initial_guess)\n",
    "\n",
    "logarithm(100,10)\n",
    "print (logarithm)"
   ]
  },
  {
   "cell_type": "code",
   "execution_count": 22,
   "metadata": {},
   "outputs": [
    {
     "name": "stdout",
     "output_type": "stream",
     "text": [
      "-> <function triple at 0x00000188C053AE18> ( 12 )\n"
     ]
    },
    {
     "data": {
      "text/plain": [
       "36"
      ]
     },
     "execution_count": 22,
     "metadata": {},
     "output_type": "execute_result"
    }
   ],
   "source": [
    "##Trace Functions\n",
    "\n",
    "def trace1(fn): # higher order fn defined\n",
    "    def wrapped(x):\n",
    "        print('->',fn,'(',x,')')\n",
    "        return fn(x)\n",
    "    return wrapped\n",
    "\n",
    "@trace1  # decorator, eq. to triple=trace1(triple)\n",
    "def triple(x):\n",
    "    return 3*x\n",
    "\n",
    "triple (12)"
   ]
  },
  {
   "cell_type": "markdown",
   "metadata": {},
   "source": [
    "[Memoization - Trace/Wrapper/Decorator Tutorial](http://programmingbits.pythonblogs.com/27_programmingbits/archive/50_function_decorators.html)\n",
    "\n"
   ]
  },
  {
   "cell_type": "code",
   "execution_count": 24,
   "metadata": {},
   "outputs": [],
   "source": [
    "# Memoization for fibonacci\n",
    "\n",
    "def fib(n):\n",
    "    if n in (0, 1):\n",
    "        return n\n",
    "    else:\n",
    "        return fib(n - 1) + fib(n - 2)\n",
    "    \n",
    " #Memoization function, no need to touch fib(n) function. Below function \n",
    "# adds functionality to fib. Fib is an argument to memoize(), \n",
    "def memoize(f):\n",
    "    cache = {}\n",
    "    def helper(x):\n",
    "        if x not in cache:            \n",
    "            cache[x] = f(x)\n",
    "        return cache[x]\n",
    "    return helper"
   ]
  },
  {
   "cell_type": "markdown",
   "metadata": {},
   "source": [
    "[list/dict/set SO](https://stackoverflow.com/questions/3489071/in-python-when-to-use-a-dictionary-list-or-set/3489100#3489100)\n",
    "A `list` keeps order, `dict` and `set` don't: when you care about order, therefore, you must use `list` (if your choice of containers is limited to these three, of course;-).\n",
    "\n",
    "`dict` associates with each key a value, while `list` and `set` just contain values: very different use cases, obviously.\n",
    "\n",
    "`set` requires items to be hashable, `list` doesn't: if you have non-hashable items, therefore, you cannot use `set` and must instead use `list`.\n",
    "\n",
    "`set` forbids duplicates, `list` does not: also a crucial distinction.  (A \"multiset\", which maps duplicates into a different count for items present more than once, can be found in `collections.Counter` -- you could build one as a `dict`, if for some weird reason you couldn't import `collections`, or, in pre-2.7 Python as a `collections.defaultdict(int)`, using the items as keys and the associated value as the count).\n",
    "\n",
    "Checking for membership of a value in a `set` (or `dict`, for keys) is blazingly fast (taking about a constant, short time), while in a list it takes time proportional to the list's length in the average and worst cases.  So, if you have hashable items, don't care either way about order or duplicates, and want speedy membership checking, `set` is better than `list`.\n"
   ]
  },
  {
   "cell_type": "code",
   "execution_count": 49,
   "metadata": {},
   "outputs": [
    {
     "data": {
      "text/plain": [
       "('U', 'C', 'N', 'C', 'S', 'A', 'I', 'D')"
      ]
     },
     "execution_count": 49,
     "metadata": {},
     "output_type": "execute_result"
    }
   ],
   "source": [
    "def iscap(s):\n",
    "    return len(s)>0  and  s[0] .isupper()\n",
    "\n",
    "g=(\"University of California and Nevada Computer Sciences and Aritificial Intelligence Department\")\n",
    "h=list(filter (iscap, g.split()))\n",
    "\n",
    "def first(s):\n",
    "    return s[0]\n",
    "\n",
    "def acronym (name):\n",
    "    return tuple (map(first,filter(iscap,name.split())))\n",
    "\n",
    "acronym(g)"
   ]
  },
  {
   "cell_type": "code",
   "execution_count": null,
   "metadata": {},
   "outputs": [],
   "source": []
  }
 ],
 "metadata": {
  "kernelspec": {
   "display_name": "Python 3",
   "language": "python",
   "name": "python3"
  },
  "language_info": {
   "codemirror_mode": {
    "name": "ipython",
    "version": 3
   },
   "file_extension": ".py",
   "mimetype": "text/x-python",
   "name": "python",
   "nbconvert_exporter": "python",
   "pygments_lexer": "ipython3",
   "version": "3.6.4"
  }
 },
 "nbformat": 4,
 "nbformat_minor": 2
}
